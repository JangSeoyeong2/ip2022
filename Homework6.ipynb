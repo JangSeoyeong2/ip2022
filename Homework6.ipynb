{
 "cells": [
  {
   "cell_type": "code",
   "execution_count": null,
   "metadata": {},
   "outputs": [],
   "source": [
    "import cv2\n",
    "import numpy as np"
   ]
  },
  {
   "cell_type": "code",
   "execution_count": null,
   "metadata": {},
   "outputs": [],
   "source": [
    "\n",
    "img1 = cv2.imread('book.jpg',0\n",
    "img2 = cv2.imread(\"book2.jpg\")\n",
    "cap = cv2.VideoCapture(0)\n",
    "    kp1, des1 = orb.detectAndCompute(img, None)\n",
    "    kp2, des2 = orb.detectAndCompute(frame, None)\n",
    "    \n",
    "    matches = bf.match(des1, des2)\n",
    "    matches = sorted(matches, key = lambda x:x.distance)\n",
    "    matching_result = cv2.drawMatches(img, kp1, frame, kp2, matches[:50], None, flags=2)\n",
    "    \n",
    "\n",
    "cv2.imshow(\"Matching result\", matching_result)\n",
    "cv2.destroyAllWindows()\n",
    "cv2.waitKey(0)"
   ]
  }
 ],
 "metadata": {
  "language_info": {
   "name": "python"
  },
  "orig_nbformat": 4
 },
 "nbformat": 4,
 "nbformat_minor": 2
}
